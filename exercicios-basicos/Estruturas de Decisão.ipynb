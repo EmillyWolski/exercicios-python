{
 "cells": [
  {
   "cell_type": "markdown",
   "id": "8535c274",
   "metadata": {
    "id": "8535c274"
   },
   "source": [
    "# Estruturas de decisão\n",
    "\n",
    "<span style=\"color: red;\"><b>Todos os exercícios são feitos partindo-se do pressuposto de que todas as entradas são dadas de forma correta. Casos limite não mencionados no enunciado não são abordados porque não fazem parte do exercício.</b></span>"
   ]
  },
  {
   "cell_type": "markdown",
   "id": "9c3d817e",
   "metadata": {
    "id": "9c3d817e"
   },
   "source": [
    "#### 1. Faça um Programa que peça dois números e imprima o maior deles."
   ]
  },
  {
   "cell_type": "code",
   "execution_count": 1,
   "id": "ae45c028",
   "metadata": {
    "id": "ae45c028"
   },
   "outputs": [
    {
     "name": "stdout",
     "output_type": "stream",
     "text": [
      "Informe um número inteiro: 21\n",
      "Informe mais um número inteiro: 23\n",
      "O maior número digitado foi 23.\n"
     ]
    }
   ],
   "source": [
    "primeiro_numero = int(input('Informe um número inteiro: '))\n",
    "segundo_numero = int(input('Informe mais um número inteiro: '))\n",
    "\n",
    "if primeiro_numero > segundo_numero:\n",
    "    print('O maior número digitado foi {}.'.format(primeiro_numero))\n",
    "else:\n",
    "    print('O maior número digitado foi {}.'.format(segundo_numero))"
   ]
  },
  {
   "cell_type": "markdown",
   "id": "ff510803",
   "metadata": {
    "id": "ff510803"
   },
   "source": [
    "#### 2. Faça um Programa que peça um valor e mostre na tela se o valor é positivo ou negativo."
   ]
  },
  {
   "cell_type": "code",
   "execution_count": 2,
   "id": "8952f58f",
   "metadata": {
    "id": "8952f58f"
   },
   "outputs": [
    {
     "name": "stdout",
     "output_type": "stream",
     "text": [
      "Informe um número: 4\n",
      "O número 4 é positivo.\n"
     ]
    }
   ],
   "source": [
    "numero_digitado = int(input('Informe um número: '))\n",
    "\n",
    "if numero_digitado < 0:\n",
    "    print('O número {} é negativo.'.format(numero_digitado))\n",
    "else:\n",
    "    print('O número {} é positivo.'.format(numero_digitado))"
   ]
  },
  {
   "cell_type": "markdown",
   "id": "6966546b",
   "metadata": {
    "id": "6966546b"
   },
   "source": [
    "#### 3. Faça um Programa que verifique o estado civil de uma pessoa. Se a letra digitada é \"C\" (Casado), \"S\" (Solteiro), \"D\" (Divorciado), \"V\" (Viúvo) ou \"O\" (outros). Conforme a letra escrita pelo usuário seu programa deve escrever o estado civil, exemplo:\n",
    "\n",
    "Usuário digita: C\n",
    "\n",
    "Seu programa deve responder:\n",
    "C - Casado"
   ]
  },
  {
   "cell_type": "code",
   "execution_count": 3,
   "id": "876a1e67",
   "metadata": {
    "id": "876a1e67"
   },
   "outputs": [
    {
     "name": "stdout",
     "output_type": "stream",
     "text": [
      "Observe as opções abaixo e digite a letra correspondente a seu ESTADO CIVIL:\n",
      "\n",
      "Digite \"c\" (Casado), \"s\" (Solteiro), \"d\" (Divorciado), \"v\" (Viúvo) ou \"o\" (outros).\n",
      "s\n",
      "Estado civil: s - Solteiro.\n",
      "\n"
     ]
    }
   ],
   "source": [
    "print('Observe as opções abaixo e digite a letra correspondente a seu ESTADO CIVIL:\\n')\n",
    "estado_civil = input('Digite \"c\" (Casado), \"s\" (Solteiro), \"d\" (Divorciado), \"v\" (Viúvo) ou \"o\" (outros).\\n')\n",
    "\n",
    "c = 'Casado'\n",
    "s = 'Solteiro'\n",
    "d = 'Divorciado'\n",
    "v = 'Viúvo'\n",
    "o = 'Outros'\n",
    "\n",
    "if estado_civil == 'c':\n",
    "    print('Estado civil: {} - {}.\\n'.format(estado_civil, c))\n",
    "elif estado_civil == 's':\n",
    "    print('Estado civil: {} - {}.\\n'.format(estado_civil, s))\n",
    "elif estado_civil == 'd':\n",
    "    print('Estado civil: {} - {}.\\n'.format(estado_civil, d))\n",
    "elif estado_civil == 'v':\n",
    "    print('Estado civil: {} - {}.\\n'.format(estado_civil, v))\n",
    "elif estado_civil == 'o':\n",
    "    print('Estado civil: {} - {}.\\n'.format(estado_civil, o))\n",
    "else:\n",
    "    print('Informe uma letra que esteja entre as opções.')"
   ]
  },
  {
   "cell_type": "markdown",
   "id": "c122c0cf",
   "metadata": {
    "id": "c122c0cf"
   },
   "source": [
    "#### 4. Faça um Programa que verifique se o e-mail digitado faz parte dos e-mails de spam."
   ]
  },
  {
   "cell_type": "code",
   "execution_count": 4,
   "id": "59bed184",
   "metadata": {
    "id": "59bed184"
   },
   "outputs": [
    {
     "name": "stdout",
     "output_type": "stream",
     "text": [
      "Informe o e-mail: emilly.wolski@gmail.com\n",
      "E-mail verificado!\n"
     ]
    }
   ],
   "source": [
    "emails_spam = \"fulano@gmail.com,beltrano@gmail.com,ciclano@gmail.com\"\n",
    "\n",
    "email_informado = input('Informe o e-mail: ')\n",
    "\n",
    "if email_informado == 'fulano@gmail.com' or email_informado == 'beltrano@gmail.com' or email_informado == 'ciclano@gmail.com':\n",
    "    print('Este e-mail faz parte dos e-mails de SPAM.')\n",
    "elif not '@' in email_informado or not '.com' in email_informado:\n",
    "    print('Digite um e-mail válido.')\n",
    "else:\n",
    "    print('E-mail verificado!')"
   ]
  },
  {
   "cell_type": "markdown",
   "id": "487ee073",
   "metadata": {
    "id": "487ee073"
   },
   "source": [
    "#### 5. Faça um programa para a leitura de duas notas parciais de um aluno. O programa deve calcular a média alcançada por aluno e apresentar:\n",
    "\n",
    "##### A mensagem \"Aprovado\", se a média alcançada for maior ou igual a sete;\n",
    "##### A mensagem \"Reprovado\", se a média for menor do que sete;\n",
    "##### A mensagem \"Aprovado com Distinção\", se a média for igual a dez."
   ]
  },
  {
   "cell_type": "code",
   "execution_count": 5,
   "id": "7f5c7096",
   "metadata": {
    "id": "7f5c7096"
   },
   "outputs": [
    {
     "name": "stdout",
     "output_type": "stream",
     "text": [
      "Informe a primeira nota do(a) aluno(a): 70\n",
      "Informe a segunda nota do(a) aluno(a): 80\n",
      "Aluno(a) aprovado(a)! Média 75.0\n"
     ]
    }
   ],
   "source": [
    "nota_1 = float(input('Informe a primeira nota do(a) aluno(a): '))\n",
    "nota_2 = float(input('Informe a segunda nota do(a) aluno(a): '))\n",
    "\n",
    "media = (nota_1 + nota_2) / 2\n",
    "\n",
    "if media == 100:\n",
    "        print('Aluno(a) aprovado com distinção! Média {}'.format(media))\n",
    "elif media >= 70:\n",
    "    print('Aluno(a) aprovado(a)! Média {}'.format(media))\n",
    "else:\n",
    "    print('Aluno(a) reprovado(a). Média {}'.format(media))"
   ]
  },
  {
   "cell_type": "markdown",
   "id": "6dd3f171",
   "metadata": {
    "id": "6dd3f171"
   },
   "source": [
    "#### 6. Faça um Programa que leia o orçamento de 3 empresas e mostre o maior deles."
   ]
  },
  {
   "cell_type": "code",
   "execution_count": 6,
   "id": "51b591e5",
   "metadata": {
    "id": "51b591e5"
   },
   "outputs": [
    {
     "name": "stdout",
     "output_type": "stream",
     "text": [
      "Informe o valor do primeiro orçamento: 3000\n",
      "Informe o valor do segundo orçamento: 6999\n",
      "Informe o valor do terceiro orçamento: 5666\n",
      "O maior orçamento é de 6999, da segunda empresa.\n"
     ]
    }
   ],
   "source": [
    "orcamento_1 = int(input('Informe o valor do primeiro orçamento: '))\n",
    "orcamento_2 = int(input('Informe o valor do segundo orçamento: '))\n",
    "orcamento_3 = int(input('Informe o valor do terceiro orçamento: '))\n",
    "\n",
    "if orcamento_1 > orcamento_2 and orcamento_1 > orcamento_3:\n",
    "    print('O maior orçamento é de {}, da primeira empresa.'.format(orcamento_1))\n",
    "\n",
    "elif orcamento_2 > orcamento_1 and orcamento_2 > orcamento_3:\n",
    "    print('O maior orçamento é de {}, da segunda empresa.'.format(orcamento_2))\n",
    "    \n",
    "else:\n",
    "     print('O maior orçamento é de {}, da terceira empresa.'.format(orcamento_3))"
   ]
  },
  {
   "cell_type": "markdown",
   "id": "ce09ed1c",
   "metadata": {
    "id": "ce09ed1c"
   },
   "source": [
    "#### 7. Faça um Programa que leia três orçamentos e mostre o maior e o menor deles."
   ]
  },
  {
   "cell_type": "code",
   "execution_count": 7,
   "id": "249f1eb8",
   "metadata": {
    "id": "249f1eb8"
   },
   "outputs": [
    {
     "name": "stdout",
     "output_type": "stream",
     "text": [
      "Informe o primeiro orcamento: 234\n",
      "Informe o segundo orcamento: 542\n",
      "Informe o terceiro orcamento: 879\n",
      "O maior orcamento é 879.0\n",
      "O menor orcamento é 234.0\n"
     ]
    }
   ],
   "source": [
    "orcamento1 = float(input('Informe o primeiro orcamento: '))\n",
    "orcamento2 = float(input('Informe o segundo orcamento: '))\n",
    "orcamento3 = float(input('Informe o terceiro orcamento: '))\n",
    "\n",
    "if orcamento1 > orcamento2 and orcamento1 > orcamento3:\n",
    "    print('O maior orcamento é', orcamento1)\n",
    "elif orcamento2 > orcamento1 and orcamento2 > orcamento3:\n",
    "    print('O maior orcamento é', orcamento2)\n",
    "elif orcamento3 > orcamento1 and orcamento3 > orcamento2:\n",
    "    print('O maior orcamento é', orcamento3)\n",
    "    \n",
    "if orcamento1 < orcamento2 and orcamento1 < orcamento3:\n",
    "    print('O menor orcamento é', orcamento1)\n",
    "elif orcamento2 < orcamento1 and orcamento2 < orcamento3:\n",
    "    print('O menor orcamento é', orcamento2)\n",
    "elif orcamento3 < orcamento1 and orcamento3 < orcamento2:\n",
    "    print('O menor orcamento é', orcamento3)"
   ]
  },
  {
   "cell_type": "markdown",
   "id": "7453d43a",
   "metadata": {
    "id": "7453d43a"
   },
   "source": [
    "#### 8. Faça um programa que pergunte o preço de três produtos e informe qual produto você deve comprar, sabendo que a decisão é sempre pelo mais barato."
   ]
  },
  {
   "cell_type": "code",
   "execution_count": 8,
   "id": "26a9503e",
   "metadata": {
    "id": "26a9503e"
   },
   "outputs": [
    {
     "name": "stdout",
     "output_type": "stream",
     "text": [
      "Informe o valor do primeiro produto: 90\n",
      "Informe o valor do segundo produto: 78\n",
      "Informe o valor do terceiro produto: 56\n",
      "O melhor produto a ser comprado é o com valor de 56.0\n"
     ]
    }
   ],
   "source": [
    "produto1 = float(input('Informe o valor do primeiro produto: '));\n",
    "produto2 = float(input('Informe o valor do segundo produto: '));\n",
    "produto3 = float(input('Informe o valor do terceiro produto: '));\n",
    "texto = 'O melhor produto a ser comprado é o com valor de {}'\n",
    "\n",
    "if produto1 < produto2 and produto1 < produto3:\n",
    "    print(texto.format(produto1));\n",
    "elif produto2 < produto1 and produto2 < produto3:\n",
    "    print(texto.format(produto2));\n",
    "else:\n",
    "    print(texto.format(produto3));"
   ]
  },
  {
   "cell_type": "markdown",
   "id": "9ade258f",
   "metadata": {
    "id": "9ade258f"
   },
   "source": [
    "#### 9. Faça um Programa que leia três números e mostre-os em ordem decrescente."
   ]
  },
  {
   "cell_type": "code",
   "execution_count": 9,
   "id": "f194c39e",
   "metadata": {
    "id": "f194c39e"
   },
   "outputs": [
    {
     "name": "stdout",
     "output_type": "stream",
     "text": [
      "Informe o primeiro número: 2\n",
      "Informe o segundo número: 1\n",
      "Informe o terceiro número: 7\n",
      "O maior número é 7.0\n",
      "O segundo maior número é 2.0\n",
      "O terceiro maior número é 1.0\n"
     ]
    }
   ],
   "source": [
    "# SOLUÇÃO 1\n",
    "# num1 = int(input('Informe um número inteiro: '));\n",
    "# num2 = int(input('Informe mais um número inteiro: '));\n",
    "# num3 = int(input('Informe o mais um número inteiro: '));\n",
    "\n",
    "# listaDeNumeros = [num1, num2, num3];\n",
    "# listaDeNumeros.sort(reverse = True);\n",
    "# listaDeNumeros;\n",
    "\n",
    "# print('Os números informados foram: ', listaDeNumeros);\n",
    "\n",
    "\n",
    "# SOLUÇÃO 2\n",
    "# Opção de resolução com If\n",
    "numero1 = float(input('Informe o primeiro número: '))\n",
    "numero2 = float(input('Informe o segundo número: '))\n",
    "numero3 = float(input('Informe o terceiro número: '))\n",
    "\n",
    "if numero1 > numero2 and numero1 > numero3:\n",
    "    print('O maior número é', numero1)\n",
    "    if numero2 > numero3:\n",
    "        print('O segundo maior número é', numero2)\n",
    "        print('O terceiro maior número é', numero3)\n",
    "    else:\n",
    "        print('O segundo maior número é', numero3)\n",
    "        print('O terceiro maior número é', numero2)\n",
    "elif numero2 > numero1 and numero2 > numero3:\n",
    "    print('O maior número é', numero2)\n",
    "    if numero1 > numero3:\n",
    "        print('O segundo maior número é', numero1)\n",
    "        print('O terceiro maior número é', numero3)\n",
    "    else:\n",
    "        print('O segundo maior número é', numero3)\n",
    "        print('O terceiro maior número é', numero1)\n",
    "elif numero3 > numero1 and numero3 > numero2:\n",
    "    print('O maior número é', numero3)\n",
    "    if numero1 > numero2:\n",
    "        print('O segundo maior número é', numero1)\n",
    "        print('O terceiro maior número é', numero2)\n",
    "    else:\n",
    "        print('O segundo maior número é', numero2)\n",
    "        print('O terceiro maior número é', numero1)"
   ]
  },
  {
   "cell_type": "markdown",
   "id": "d06e2fe8",
   "metadata": {
    "id": "d06e2fe8"
   },
   "source": [
    "#### 10. Faça um Programa que pergunte em que turno você estuda. Peça para digitar M-matutino ou V-Vespertino ou N- Noturno. Imprima a mensagem \"Bom Dia!\", \"Boa Tarde!\" ou \"Boa Noite!\" ou \"Valor Inválido!\", conforme o caso."
   ]
  },
  {
   "cell_type": "code",
   "execution_count": 4,
   "id": "1eb36141",
   "metadata": {
    "id": "1eb36141"
   },
   "outputs": [
    {
     "name": "stdout",
     "output_type": "stream",
     "text": [
      "Informe o turno em que você estuda. M para Matutino, V para vespertino e N para noturno.N\n",
      "Turno noturno. Boa noite!\n"
     ]
    }
   ],
   "source": [
    "turnoDeEstudo = str(input('Informe o turno em que você estuda. M para Matutino, V para vespertino e N para noturno.'))\n",
    "\n",
    "if turnoDeEstudo == 'M':\n",
    "    print('Turno matutino. Bom dia!')\n",
    "elif turnoDeEstudo == 'V':\n",
    "    print('Turno vespertino. Boa tarde!')\n",
    "else:\n",
    "    print('Turno noturno. Boa noite!')"
   ]
  },
  {
   "cell_type": "markdown",
   "id": "4864b755",
   "metadata": {
    "id": "4864b755"
   },
   "source": [
    "#### 11. As Organizações Tabajara resolveram dar um aumento de salário aos seus colaboradores e lhe contraram para desenvolver o programa que calculará os reajustes. Faça um programa que recebe o salário de um colaborador e o reajuste segundo o seguinte critério, baseado no salário atual:\n",
    "\n",
    "##### salários até R\\\\$ 280,00 (incluindo) : aumento de 20% \n",
    "\n",
    "##### salários entre R\\\\$ 280,00 e R\\\\$ 700,00 : aumento de 15% \n",
    "\n",
    "##### salários entre R\\\\$ 700,00 e R\\\\$ 1500,00 : aumento de 10% \n",
    "\n",
    "##### salários de R\\\\$ 1500,00 em diante : aumento de 5% Após o aumento ser realizado, informe na tela: \n",
    "\n",
    "###### o salário antes do reajuste;\n",
    "\n",
    "###### o percentual de aumento aplicado;\n",
    "\n",
    "###### o valor do aumento;\n",
    "\n",
    "###### o novo salário, após o aumento.\n",
    "\n",
    "###### Obs: Não vamos nos preocupar tanto com a formatação dos números (nº de casas decimais, por exemplo, veremos isso no próximo módulo)"
   ]
  },
  {
   "cell_type": "code",
   "execution_count": 29,
   "id": "f0d34916",
   "metadata": {
    "id": "f0d34916"
   },
   "outputs": [
    {
     "name": "stdout",
     "output_type": "stream",
     "text": [
      "Informe o salário: 100\n",
      "Salário antes do reajuste: 100.0\n",
      "Percentual de aumento: 0.2\n",
      "Valor do aumento: 20.0\n",
      "Salário com aumento: 120.0\n"
     ]
    }
   ],
   "source": [
    "salario = float(input('Informe o salário: '))\n",
    "\n",
    "if salario <= 280:\n",
    "    aumento = 0.20\n",
    "    valorDoAumento = salario * aumento\n",
    "    salarioComAumento = salario + valorDoAumento\n",
    "    \n",
    "elif salario >= 280 and salario < 700:\n",
    "    aumento = 0.15\n",
    "    valorDoAumento = salario * aumento\n",
    "    salarioComAumento = salario + valorDoAumento\n",
    "\n",
    "elif salario >= 700 and salario < 1500:\n",
    "    aumento = 0.10\n",
    "    valorDoAumento = salario * aumento\n",
    "    salarioComAumento = salario + valorDoAumento\n",
    "    \n",
    "else:\n",
    "    aumento = 0.05\n",
    "    valorDoAumento = salario * aumento\n",
    "    salarioComAumento = salario + valorDoAumento\n",
    "\n",
    "print('Salário antes do reajuste: {}'.format(salario))\n",
    "print('Percentual de aumento: {}'.format(aumento))\n",
    "print('Valor do aumento: {}'.format(valorDoAumento))\n",
    "print('Salário com aumento: {}'.format(salarioComAumento))\n",
    "\n"
   ]
  },
  {
   "cell_type": "markdown",
   "id": "b037f1e8",
   "metadata": {
    "id": "b037f1e8"
   },
   "source": [
    "#### 12 . Faça um programa para o cálculo de uma folha de pagamento, sabendo que os descontos são do Imposto de Renda, que depende do salário bruto (conforme tabela abaixo) e que o FGTS corresponde a 11% do Salário Bruto, mas não é descontado (é a empresa que deposita). O Salário Líquido corresponde ao Salário Bruto menos os descontos. O programa deverá pedir ao usuário o valor da sua hora e a quantidade de horas trabalhadas no mês.\n",
    "\n",
    "Desconto do IR:<br>\n",
    "Salário Bruto até 900 (inclusive) - isento<br>\n",
    "Salário Bruto até 1500 (inclusive) - desconto de 5%<br>\n",
    "Salário Bruto até 2500 (inclusive) - desconto de 10%<br>\n",
    "Salário Bruto acima de 2500 - desconto de 20%<br>\n",
    "Imprima na tela as informações, dispostas conforme o exemplo abaixo. No exemplo o valor da hora é 5 e a quantidade de hora é 220.\n",
    "\n",
    "Salário Bruto: (5 * 220)        : R\\\\$ 1100,00<br>\n",
    "(-) IR (5%)                     : R\\\\$   55,00<br>\n",
    "(-) INSS ( 10%)                 : R\\\\$  110,00<br>\n",
    "FGTS (11%)                      : R\\\\$  121,00<br>\n",
    "Total de descontos              : R\\\\$  165,00<br>\n",
    "Salário Liquido                 : R\\\\$  935,00<br>\n",
    "\n",
    "###### Obs: Não vamos nos preocupar tanto com a formatação dos números (nº de casas decimais, por exemplo, veremos isso no próximo módulo)"
   ]
  },
  {
   "cell_type": "code",
   "execution_count": 36,
   "id": "dad18bb2",
   "metadata": {
    "id": "dad18bb2"
   },
   "outputs": [
    {
     "name": "stdout",
     "output_type": "stream",
     "text": [
      "Informe o valor de cada hora trabalhada: 18\n",
      "Informe a quantidade de horas trabalhadas em 1 mês: 120\n",
      "\n",
      "\n",
      "Salário bruto: 2160.0\n",
      "Desconto do IR: 0.0\n",
      "Desconto do INSS: 216.0\n",
      "Valor do FGTS: 237.6\n",
      "Total de descontos: 216.0\n",
      "Salário líquido: 1944.0\n"
     ]
    }
   ],
   "source": [
    "valor_hora = float(input('Informe o valor de cada hora trabalhada: '))\n",
    "quantidade_horas_trabalhadas = int(input('Informe a quantidade de horas trabalhadas em 1 mês: '))\n",
    "print('\\n')\n",
    "\n",
    "# Calcular salário bruto\n",
    "salario_bruto = valor_hora * quantidade_horas_trabalhadas\n",
    "\n",
    "# Calcular descontos\n",
    "valor_do_desconto_ir = salario_bruto * desconto_ir\n",
    "desconto_inss = 0.10\n",
    "valor_do_desconto_inss = salario_bruto * desconto_inss\n",
    "valor_fgts = 0.11\n",
    "\n",
    "# Depósito fgts\n",
    "valor_depositado_fgts = salario_bruto * valor_fgts\n",
    "\n",
    "# Cálculo de salário líquido\n",
    "salario_liquido = salario_bruto - (valor_do_desconto_ir + valor_do_desconto_inss)\n",
    "\n",
    "# Condições\n",
    "if salario_bruto < 900 or salario_bruto == 900:\n",
    "    desconto_ir = 0\n",
    "    \n",
    "elif salario_bruto > 900 or salario_bruto == 1500:\n",
    "    desconto_ir = 0.05 \n",
    "\n",
    "elif salario_bruto > 1500 or salario_bruto == 2500:\n",
    "    desconto_ir = 0.10 \n",
    "    desconto_inss = 0.10\n",
    "\n",
    "else:\n",
    "    if salario_bruto > 2500:\n",
    "        desconto_ir = 0.20\n",
    "        \n",
    "print('Salário bruto: {}'.format(salario_bruto))\n",
    "print('Desconto do IR: {}'.format(valor_do_desconto_ir))\n",
    "print('Desconto do INSS: {}'.format(valor_do_desconto_inss))\n",
    "print('Valor do FGTS: {}'.format(valor_depositado_fgts))\n",
    "print(f'Total de descontos: {valor_do_desconto_ir + valor_do_desconto_inss}')\n",
    "print('Salário líquido: {}'.format(salario_liquido))"
   ]
  },
  {
   "cell_type": "markdown",
   "id": "814fc211",
   "metadata": {
    "id": "814fc211"
   },
   "source": [
    "#### 13. Faça um Programa que leia um número e exiba o dia correspondente da semana. (1-Domingo, 2- Segunda, etc.), se digitar outro valor deve aparecer valor inválido."
   ]
  },
  {
   "cell_type": "code",
   "execution_count": 24,
   "id": "f2c2b8d8",
   "metadata": {
    "id": "f2c2b8d8"
   },
   "outputs": [
    {
     "name": "stdout",
     "output_type": "stream",
     "text": [
      "Informe um número entre 1 e 7 para pesquisar um dia da semana:10\n",
      "Dia inválido.\n"
     ]
    }
   ],
   "source": [
    "# Em vez de usar a palavra-chave \"def\" para criar uma função nomeada, \n",
    "# foi utilizada a palavra-chave \"lambda\" para criar uma função anônima que pode ser atribuída a uma \n",
    "# variável ou usada diretamente como argumento em outra função.\n",
    "\n",
    "# A sintaxe básica da expressão lambda é a seguinte: lambda argumentos: expressão\n",
    "\n",
    "dia_numerico = int(input('Informe um número entre 1 e 7 para pesquisar um dia da semana:'))\n",
    "opcoes = {\n",
    "    1: lambda: print('Domingo.'),\n",
    "    2: lambda: print('Segunda-feira.'),\n",
    "    3: lambda: print('Terça-feira.'),\n",
    "    4: lambda: print('Quarta-feira.'),\n",
    "    5: lambda: print('Quinta-feira.'),\n",
    "    6: lambda: print('Sexta-feira.'),\n",
    "    7: lambda: print('Sábado.'),\n",
    "}\n",
    "\n",
    "opcoes.get(dia_numerico, lambda: print('Dia inválido.'))()\n",
    "# Se o número não estiver entre as opções listadas, o método \"get\" \n",
    "# retorna uma função anônima que imprime a mensagem \"Dia inválido.\""
   ]
  },
  {
   "cell_type": "markdown",
   "id": "6e5f461e",
   "metadata": {
    "id": "6e5f461e"
   },
   "source": [
    "#### 14. Faça um programa que lê as duas notas parciais obtidas por um aluno numa disciplina ao longo de um semestre, e calcule a sua média. Em seguida, mostre qual conceito o aluno teve. A atribuição de conceitos obedece à tabela abaixo:\n",
    "<pre>\n",
    "Média de Aproveitamento  Conceito\n",
    "Entre 9.0 e 10.0        A\n",
    "Entre 7.5 e 9.0         B\n",
    "Entre 6.0 e 7.5         C\n",
    "Entre 4.0 e 6.0         D\n",
    "Entre 4.0 e zero        E\n",
    "</pre>"
   ]
  },
  {
   "cell_type": "code",
   "execution_count": null,
   "id": "29721a43",
   "metadata": {
    "id": "29721a43"
   },
   "outputs": [],
   "source": []
  },
  {
   "cell_type": "markdown",
   "id": "e6b3bcaf",
   "metadata": {
    "id": "e6b3bcaf"
   },
   "source": [
    "#### 15. Você está construindo um calendário para controlar dias de trabalho a pedido do RH. Nessa construção, você vai precisar definir quais anos são bissextos e quais não são, para montar o calendário de forma correta. Faça um Programa que peça um número correspondente a um determinado ano e em seguida informe se este ano é ou não bissexto.\n",
    "<pre>\n",
    "Dica para determinar se um ano é bissexto: \n",
    "- São bissextos todos os anos múltiplos de 400, p.ex.: 1600, 2000, 2400, 2800...\n",
    "- São bissextos todos os múltiplos de 4, exceto se for múltiplo de 100 mas não de 400, \n",
    "p.ex.: 1996, 2000, 2004, 2008, 2012, 2016, 2020, 2024, 2028...\n",
    "- Não são bissextos todos os demais anos.<br>\n",
    "ex1: 2004 é múltiplo de 4, mas não é múltiplo de 100, então é bissexto.\n",
    "ex2: 2000 é múltiplo de 4, mas é múltiplo de 100, só que também é multiplo de 400, então é bissexto (porque todo ano múltiplo de 400 é bissexto, independente do resto).\n",
    "ex3: 1900 é múltiplo de 4, é múltiplo de 100, mas não é múltiplo de 400, então não é bissexto\n",
    "\n",
    "</pre>\n",
    "\n",
    "Dica: lembre que: numero % 4 é o resto da divisão do número por 4, ex: 10 % 3 = 1 (já que 10/3 = 3 e resta 1)"
   ]
  },
  {
   "cell_type": "code",
   "execution_count": null,
   "id": "56af223f",
   "metadata": {
    "id": "56af223f"
   },
   "outputs": [],
   "source": []
  },
  {
   "cell_type": "markdown",
   "id": "9fe532c8",
   "metadata": {
    "id": "9fe532c8"
   },
   "source": [
    "#### 16. Faça um Programa para leitura de três notas parciais de um aluno. O programa deve calcular a média alcançada por aluno e presentar:\n",
    "<pre>\n",
    "A mensagem \"Aprovado\", se a média for maior ou igual a 7, com a respectiva média alcançada;\n",
    "A mensagem \"Reprovado\", se a média for menor do que 7, com a respectiva média alcançada;\n",
    "A mensagem \"Aprovado com Distinção\", se a média for igual a 10.\n",
    "</pre>"
   ]
  },
  {
   "cell_type": "code",
   "execution_count": null,
   "id": "1a56e99f",
   "metadata": {
    "id": "1a56e99f"
   },
   "outputs": [],
   "source": []
  },
  {
   "cell_type": "markdown",
   "id": "d544412e",
   "metadata": {
    "id": "d544412e"
   },
   "source": [
    "#### 17. João Papo-de-Pescador, homem de bem, comprou um microcomputador para controlar o rendimento diário de seu trabalho. Toda vez que ele traz um peso de peixes maior que o estabelecido pelo regulamento de pesca do estado de São Paulo (50 quilos) deve pagar uma multa de R$ 4,00 por quilo excedente. João precisa que você faça um programa que leia a variável peso (peso de peixes) e calcule o excesso. Gravar na variável excesso a quantidade de quilos além do limite e na variável multa o valor da multa que João deverá pagar. Imprima os dados do programa com as mensagens adequadas."
   ]
  },
  {
   "cell_type": "code",
   "execution_count": null,
   "id": "971ed027",
   "metadata": {
    "id": "971ed027"
   },
   "outputs": [],
   "source": []
  },
  {
   "cell_type": "markdown",
   "id": "0e5256e0",
   "metadata": {
    "id": "0e5256e0"
   },
   "source": [
    "#### 18. Faça um Programa para um caixa eletrônico. O programa deverá perguntar ao usuário a valor do saque e depois informar quantas notas de cada valor serão fornecidas. As notas disponíveis serão as de 1, 5, 10, 50 e 100 reais. O valor mínimo é de 10 reais e o máximo de 600 reais. O programa não deve se preocupar com a quantidade de notas existentes na máquina.\n",
    "<pre>\n",
    "Exemplo 1: Para sacar a quantia de 256 reais, o programa fornece duas notas de 100, uma nota de 50, uma nota de 5 e uma nota de 1;\n",
    "Exemplo 2: Para sacar a quantia de 399 reais, o programa fornece três notas de 100, uma nota de 50, quatro notas de 10, uma nota de 5 e quatro notas de 1.\n",
    "</pre>\n",
    "\n",
    "Dica1: numero // 10 vai te dar como resposta a parte inteira da divisão do número por 10.<br>\n",
    "Dica2: numero % 10 vai te dar o resto da divisão do número por 10."
   ]
  },
  {
   "cell_type": "code",
   "execution_count": null,
   "id": "9b4244c7",
   "metadata": {
    "id": "9b4244c7"
   },
   "outputs": [],
   "source": []
  },
  {
   "cell_type": "markdown",
   "id": "cba47494",
   "metadata": {
    "id": "cba47494"
   },
   "source": [
    "#### 19. Faça um programa que faça 5 perguntas para uma pessoa sobre um crime. As perguntas são:\n",
    "<pre>\n",
    "\"Telefonou para a vítima?\"\n",
    "\"Esteve no local do crime?\"\n",
    "\"Mora perto da vítima?\"\n",
    "\"Devia para a vítima?\"\n",
    "\"Já trabalhou com a vítima?\" \n",
    "O programa deve no final emitir uma classificação sobre a participação da pessoa no crime. Se a pessoa responder positivamente a 2 questões ela deve ser classificada como \"Suspeita\", entre 3 e 4 como \"Cúmplice\" e 5 como \"Assassino\". Caso contrário, ele será classificado como \"Inocente\".\n",
    "</pre>"
   ]
  },
  {
   "cell_type": "code",
   "execution_count": null,
   "id": "5fdf9b88",
   "metadata": {
    "id": "5fdf9b88"
   },
   "outputs": [],
   "source": []
  },
  {
   "cell_type": "markdown",
   "id": "18901e98",
   "metadata": {
    "id": "18901e98"
   },
   "source": [
    "#### 20. Um posto está vendendo combustíveis com a seguinte tabela de descontos:\n",
    "<pre>\n",
    "Álcool:\n",
    "até 20 litros, desconto de 3% por litro\n",
    "acima de 20 litros, desconto de 5% por litro\n",
    "Gasolina:\n",
    "até 20 litros, desconto de 4% por litro\n",
    "acima de 20 litros, desconto de 6% por litro\n",
    "\n",
    "Escreva um algoritmo que leia o número de litros vendidos, o tipo de combustível (codificado da seguinte forma: A-álcool, G-gasolina), calcule e imprima o valor a ser pago pelo cliente sabendo-se que o preço do litro da gasolina é R$ 2,50 o preço do litro do álcool é R$ 1,90.\n",
    "</pre>"
   ]
  },
  {
   "cell_type": "code",
   "execution_count": null,
   "id": "a1fd8c38",
   "metadata": {
    "id": "a1fd8c38"
   },
   "outputs": [],
   "source": []
  },
  {
   "cell_type": "markdown",
   "id": "be0f8f32",
   "metadata": {
    "id": "be0f8f32"
   },
   "source": [
    "#### 21. Uma fruteira está vendendo frutas com a seguinte tabela de preços:\n",
    "<pre>\n",
    "                      Até 5 Kg           Acima de 5 Kg\n",
    "Morango         R$ 2,50 por Kg          R$ 2,20 por Kg\n",
    "Maçã            R$ 1,80 por Kg          R$ 1,50 por Kg\n",
    "Se o cliente comprar mais de 8 Kg em frutas ou o valor total da compra ultrapassar R$ 25,00, receberá ainda um desconto de 10% sobre este total. Escreva um algoritmo para ler a quantidade (em Kg) de morangos e a quantidade (em Kg) de maças adquiridas e escreva o valor a ser pago pelo cliente.\n",
    "</pre>"
   ]
  },
  {
   "cell_type": "code",
   "execution_count": null,
   "id": "35c47c8e",
   "metadata": {
    "id": "35c47c8e"
   },
   "outputs": [],
   "source": []
  },
  {
   "cell_type": "markdown",
   "id": "4dbd53ed",
   "metadata": {
    "id": "4dbd53ed"
   },
   "source": [
    "#### 22. O Hipermercado Tabajara está com uma promoção de carnes que é imperdível. Confira:\n",
    "<pre>\n",
    "                      Até 5 Kg           Acima de 5 Kg\n",
    "File Duplo      R$ 4,90 por Kg          R$ 5,80 por Kg\n",
    "Alcatra         R$ 5,90 por Kg          R$ 6,80 por Kg\n",
    "Picanha         R$ 6,90 por Kg          R$ 7,80 por Kg\n",
    "Para atender a todos os clientes, cada cliente poderá levar apenas um dos tipos de carne da promoção, porém não há limites para a quantidade de carne por cliente. Se compra for feita no cartão Tabajara o cliente receberá ainda um desconto de 5% sobre o total da compra. Escreva um programa que peça o tipo e a quantidade de carne comprada pelo usuário e gere um cupom fiscal, contendo as informações da compra: tipo e quantidade de carne, preço total, tipo de pagamento, valor do desconto e valor a pagar.\n",
    "</pre>"
   ]
  },
  {
   "cell_type": "code",
   "execution_count": null,
   "id": "15a77357",
   "metadata": {
    "id": "15a77357"
   },
   "outputs": [],
   "source": []
  },
  {
   "cell_type": "markdown",
   "id": "b949545b",
   "metadata": {
    "id": "b949545b"
   },
   "source": [
    "#### 23. Faça um Programa para uma loja de tintas. O programa deverá pedir o tamanho em metros quadrados da área a ser pintada. Considere que a cobertura da tinta é de 1 litro para cada 6 metros quadrados e que a tinta é vendida em latas de 18 litros, que custam R\\\\$ 80,00 ou em galões de 3,6 litros, que custam R\\\\$ 25,00."
   ]
  },
  {
   "cell_type": "code",
   "execution_count": null,
   "id": "b11185b0",
   "metadata": {
    "id": "b11185b0"
   },
   "outputs": [],
   "source": [
    "area = float(input('Informe o tamanho da área a ser pintada em m²: '))\n",
    "litros_tinta = area / 6"
   ]
  },
  {
   "cell_type": "markdown",
   "id": "b3d0598f",
   "metadata": {
    "id": "b3d0598f"
   },
   "source": [
    "##### Informe ao usuário as quantidades de tinta a serem compradas e os respectivos preços em 3 situações.\n",
    "\n",
    "Dica: lembre dos operadores // e % mostrados em exercícios anteriores<br>\n",
    "Dica1: numero // 10 vai te dar como resposta a parte inteira da divisão do número por 10.<br>\n",
    "Dica2: numero % 10 vai te dar o resto da divisão do número por 10.\n",
    "\n",
    "##### 1. Comprar apenas latas de 18 litros: (apenas latas inteiras)"
   ]
  },
  {
   "cell_type": "code",
   "execution_count": null,
   "id": "ed599d53",
   "metadata": {
    "id": "ed599d53"
   },
   "outputs": [],
   "source": []
  },
  {
   "cell_type": "markdown",
   "id": "ab03bc10",
   "metadata": {
    "id": "ab03bc10"
   },
   "source": [
    "##### 2. Comprar apenas galões de 3,6 litros: (apenas galoes inteiros)"
   ]
  },
  {
   "cell_type": "code",
   "execution_count": null,
   "id": "542f4a77",
   "metadata": {
    "id": "542f4a77"
   },
   "outputs": [],
   "source": []
  },
  {
   "cell_type": "markdown",
   "id": "8Jbw7RupH9Nc",
   "metadata": {
    "id": "8Jbw7RupH9Nc"
   },
   "source": [
    "##### 3. Misturar latas e galões, de forma que o desperdício de tinta seja menor. Acrescente 10% de folga e sempre arredonde os valores para cima, isto é, considere latas cheias."
   ]
  },
  {
   "cell_type": "markdown",
   "id": "93d4157b",
   "metadata": {
    "id": "93d4157b"
   },
   "source": [
    "O custo da lata é 80/18 = 4,44 R\\\\$/L\n",
    "\n",
    "O custo do galão é 25/3,6 = 6,94 R\\\\$/L\n",
    "\n",
    "A lata é mais econômica, então todas as latas inteiras que pudermos usar devemos comprar em latas. Se ficar faltando alguma coisa para completar devemos avaliar se é melhor comprar latas ou galões. Exemplo:\n",
    "\n",
    "Se queremos comprar 90 litros. 5 latas dão exatamente 90 litros. Então devemos comprar tudo em latas.\n",
    "\n",
    "Se queremos comprar 95 litros. 5 latas dão exatamente 90 litros. Então devemos comprar pelo menos 5 latas e avaliar o que falta, se estes últimos 5 litros valem mais apenas em latas ou galões.\n",
    "\n",
    "Para os 5 litros faltantes precisamos de 2 galões que custam 50 reais no total. Ou de uma lata que custa 80 reais no total. Portanto, neste caso vale mais a pena usar 2 galões.\n",
    "\n",
    "Se queremos comprar 107 litros. 5 latas dão exatamente 90 litros. Então devemos comprar pelo menos 5 latas e avaliar o que falta, se estes últimos 5 litros valem mais apenas em latas ou galões.\n",
    "\n",
    "Para os 17 litros faltantes precisamos de 5 galões que custam 125 reais no total. Ou de uma lata que custa 80 reais no total. Portanto, neste caso vale mais a pena usar uma lata.\n",
    "\n",
    "3 galões custam 75 reais, 4 galões custam 100 reais. Então, se for possível completar com até 3 galões escolhe-se galões. Qualquer quantidade maior que 3 galões, usa-se latas.\n",
    "\n",
    "Podemos ir ao exercício:"
   ]
  },
  {
   "cell_type": "code",
   "execution_count": null,
   "id": "01d104b6",
   "metadata": {
    "id": "01d104b6"
   },
   "outputs": [],
   "source": []
  }
 ],
 "metadata": {
  "colab": {
   "provenance": []
  },
  "kernelspec": {
   "display_name": "Python 3 (ipykernel)",
   "language": "python",
   "name": "python3"
  },
  "language_info": {
   "codemirror_mode": {
    "name": "ipython",
    "version": 3
   },
   "file_extension": ".py",
   "mimetype": "text/x-python",
   "name": "python",
   "nbconvert_exporter": "python",
   "pygments_lexer": "ipython3",
   "version": "3.9.13"
  }
 },
 "nbformat": 4,
 "nbformat_minor": 5
}
