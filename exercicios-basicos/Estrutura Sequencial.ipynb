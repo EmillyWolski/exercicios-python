{
 "cells": [
  {
   "cell_type": "markdown",
   "id": "bb0f9514",
   "metadata": {
    "id": "bb0f9514"
   },
   "source": [
    "# Lista de Estrutura Sequencial"
   ]
  },
  {
   "cell_type": "markdown",
   "id": "4e7a8c30",
   "metadata": {
    "id": "4e7a8c30"
   },
   "source": [
    "#### 1. Faça um Programa que mostre a mensagem (print) \"Alo mundo\" na tela."
   ]
  },
  {
   "cell_type": "code",
   "execution_count": 1,
   "id": "883bfe85",
   "metadata": {
    "id": "883bfe85"
   },
   "outputs": [
    {
     "name": "stdout",
     "output_type": "stream",
     "text": [
      "Alo mundo!\n"
     ]
    }
   ],
   "source": [
    "print('Alo mundo!')"
   ]
  },
  {
   "cell_type": "markdown",
   "id": "71d6d6a2",
   "metadata": {
    "id": "71d6d6a2"
   },
   "source": [
    "#### 2. Faça um Programa que peça um número (input) e então mostre a mensagem: \"O número informado foi [número].\""
   ]
  },
  {
   "cell_type": "code",
   "execution_count": 3,
   "id": "30cfffcf",
   "metadata": {
    "id": "30cfffcf"
   },
   "outputs": [
    {
     "name": "stdout",
     "output_type": "stream",
     "text": [
      "Informe um número inteiro: 72\n",
      "O número informado foi: 72\n",
      "O numero informado foi: 72\n"
     ]
    }
   ],
   "source": [
    "numeroInformado = int(input('Informe um número inteiro: '))\n",
    "# com f-string\n",
    "print(f'O número informado foi: {numeroInformado}')\n",
    "# com .format\n",
    "print('O numero informado foi: {}'.format(numeroInformado))"
   ]
  },
  {
   "cell_type": "markdown",
   "id": "c5e43160",
   "metadata": {
    "id": "c5e43160"
   },
   "source": [
    "#### 3. Faça um Programa que peça dois números e imprima a soma."
   ]
  },
  {
   "cell_type": "code",
   "execution_count": 5,
   "id": "b0e79590",
   "metadata": {
    "id": "b0e79590"
   },
   "outputs": [
    {
     "name": "stdout",
     "output_type": "stream",
     "text": [
      "Informe um número inteiro: 70\n",
      "Informe mais um número inteiro: 70\n",
      "A soma dos números informados é: 140\n"
     ]
    }
   ],
   "source": [
    "numero1 = int(input('Informe um número inteiro: '))\n",
    "numero2 = int(input('Informe mais um número inteiro: '))\n",
    "soma = numero1 + numero2\n",
    "\n",
    "print(f'A soma dos números informados é: {soma}')"
   ]
  },
  {
   "cell_type": "markdown",
   "id": "17826987",
   "metadata": {
    "id": "17826987"
   },
   "source": [
    "#### 4. Faça um Programa que peça as 4 notas bimestrais de um aluno e mostre a média de todas as notas."
   ]
  },
  {
   "cell_type": "code",
   "execution_count": 4,
   "id": "23b66762",
   "metadata": {
    "id": "23b66762"
   },
   "outputs": [
    {
     "name": "stdout",
     "output_type": "stream",
     "text": [
      "Informe a primeira nota do(a) aluno(a): 70\n",
      "Informe a segunda nota do(a) aluno(a)(a): 94\n",
      "Informe a terceira nota do(a) aluno(a)(a): 90\n",
      "Informe a quarta nota do(a) aluno(a)(a): 70\n",
      "A média das notas informadas é: 81.0\n"
     ]
    }
   ],
   "source": [
    "nota1 = float(input('Informe a primeira nota do(a) aluno(a): '))\n",
    "nota2 = float(input('Informe a segunda nota do(a) aluno(a)(a): '))\n",
    "nota3 = float(input('Informe a terceira nota do(a) aluno(a)(a): '))\n",
    "nota4 = float(input('Informe a quarta nota do(a) aluno(a)(a): '))\n",
    "\n",
    "mediaDasNotas = (nota1 + nota2 + nota3 + nota4) / 4\n",
    "\n",
    "print(f'A média das notas informadas é: {mediaDasNotas}')"
   ]
  },
  {
   "cell_type": "markdown",
   "id": "62d461c5",
   "metadata": {
    "id": "62d461c5"
   },
   "source": [
    "#### 5. Faça um Programa que converta metros para centímetros. Você pode pedir o comprimento em metros para o usuário (input)."
   ]
  },
  {
   "cell_type": "code",
   "execution_count": 4,
   "id": "d642f1ba",
   "metadata": {
    "id": "d642f1ba"
   },
   "outputs": [
    {
     "name": "stdout",
     "output_type": "stream",
     "text": [
      "Informe a medida em metros: 7.5\n",
      "A medida em centimetros é: 750.0\n"
     ]
    }
   ],
   "source": [
    "metros = float(input('Informe a medida em metros: '))\n",
    "medida = metros * 100\n",
    "print('A medida em centimetros é: {}'.format(medida))"
   ]
  },
  {
   "cell_type": "markdown",
   "id": "f1311697",
   "metadata": {
    "id": "f1311697"
   },
   "source": [
    "#### 6. Faça um Programa que calcule a área de uma sala de um apartamento. Para isso, o seu programa precisa pedir a largura da sala, o comprimento da sala e imprimir a área em m² da sala."
   ]
  },
  {
   "cell_type": "code",
   "execution_count": 7,
   "id": "612ea24b",
   "metadata": {
    "id": "612ea24b"
   },
   "outputs": [
    {
     "name": "stdout",
     "output_type": "stream",
     "text": [
      "Informe a largura da sala: 5\n",
      "Informe o comprimento da sala: 8\n",
      "A área da sala é de: 40.0 metros quadrados.\n"
     ]
    }
   ],
   "source": [
    "largura_da_sala = float(input('Informe a largura da sala: '))\n",
    "comprimento_da_sala = float(input('Informe o comprimento da sala: '))\n",
    "\n",
    "# multiplicar largura por comprimento\n",
    "area_sala = largura_da_sala * comprimento_da_sala\n",
    "\n",
    "print('A área da sala é de: {} metros quadrados.'.format(area_sala))"
   ]
  },
  {
   "cell_type": "markdown",
   "id": "2a285929",
   "metadata": {
    "id": "2a285929"
   },
   "source": [
    "#### 7. Faça um Programa que pergunte quanto você ganha por hora e o número de horas trabalhadas no mês. Calcule e mostre o total do seu salário no referido mês."
   ]
  },
  {
   "cell_type": "code",
   "execution_count": 14,
   "id": "359e2232",
   "metadata": {
    "id": "359e2232"
   },
   "outputs": [
    {
     "name": "stdout",
     "output_type": "stream",
     "text": [
      "Informe quanto você ganha por hora trabalhada: 24\n",
      "Quantas horas você trabalha por mês? 120\n",
      "O seu salário é de: 2880.0 por mês.\n"
     ]
    }
   ],
   "source": [
    "ganhos_por_hora = float(input('Informe quanto você ganha por hora trabalhada: '))\n",
    "horas_trabalhadas = int(input('Quantas horas você trabalha por mês? '))\n",
    "salario = ganhos_por_hora * horas_trabalhadas\n",
    "\n",
    "print('O seu salário é de: {} por mês.'.format(salario))"
   ]
  },
  {
   "cell_type": "markdown",
   "id": "7e2d4615",
   "metadata": {
    "id": "7e2d4615"
   },
   "source": [
    "#### 8. Vamos criar um conversor de temperatura. Faça um Programa que peça a temperatura em graus Fahrenheit, transforme e mostre a temperatura em graus Celsius.\n",
    "$C = \\frac{5}{9}(F-32)$"
   ]
  },
  {
   "cell_type": "code",
   "execution_count": 7,
   "id": "82daf9fd",
   "metadata": {
    "id": "82daf9fd"
   },
   "outputs": [
    {
     "name": "stdout",
     "output_type": "stream",
     "text": [
      "Informe a temperatura em graus Fahrenheit: 10\n",
      "A temperatura é de -12.222222222222221 graus Celsius.\n"
     ]
    }
   ],
   "source": [
    "temperatura_fahrenheit = int(input('Informe a temperatura em graus Fahrenheit: '))\n",
    "\n",
    "# Para transformar, é necessário subtrair a temperatura em ºF por 32 e dividir o resultado por 1,8.\n",
    "temperatura_em_celsius = (temperatura_fahrenheit - 32) / 1.8 \n",
    "print('A temperatura é de {} graus Celsius.'.format(temperatura_em_celsius))\n",
    "\n",
    "# outra opção\n",
    "# temperatura_em_celsius = (5 / 9) * (temperatura_fahrenheit - 32)\n",
    "# print('A temperatura é de {} graus Celsius.'.format(temperatura_em_celsius))"
   ]
  },
  {
   "cell_type": "markdown",
   "id": "20708b1c",
   "metadata": {
    "id": "20708b1c"
   },
   "source": [
    "#### 9. Faça um Programa que peça a temperatura em graus Celsius, transforme e mostre em graus Fahrenheit.\n",
    "$F = \\frac{9}{5}C + 32$"
   ]
  },
  {
   "cell_type": "code",
   "execution_count": 9,
   "id": "c73cfb38",
   "metadata": {
    "id": "c73cfb38"
   },
   "outputs": [
    {
     "name": "stdout",
     "output_type": "stream",
     "text": [
      "Informe a temperatura em graus Celsius: 22\n",
      "A temperatura em Fahrenheit é 71.6\n"
     ]
    }
   ],
   "source": [
    "temp_celsius = int(input('Informe a temperatura em graus Celsius: '))\n",
    "temp_fahrenheit = (9 / 5) * temp_celsius + 32\n",
    "print('A temperatura em Fahrenheit é {}'.format(temp_fahrenheit))"
   ]
  },
  {
   "cell_type": "markdown",
   "id": "b263a9dc",
   "metadata": {
    "id": "b263a9dc"
   },
   "source": [
    "#### 10. Tendo como dados de entrada a altura (h) de uma pessoa, construa um algoritmo que calcule seu peso ideal, usando a seguinte fórmula:\n",
    "$P = 72,7h - 58$\n",
    "\n",
    "Lembrando que \"algoritmo\" nada mais é do que um programa, como todos os outros que você vem fazendo"
   ]
  },
  {
   "cell_type": "code",
   "execution_count": 2,
   "id": "9a9b8dca",
   "metadata": {
    "id": "9a9b8dca"
   },
   "outputs": [
    {
     "name": "stdout",
     "output_type": "stream",
     "text": [
      "Informe sua altura: 1.60\n",
      "O peso ideal é: 58.32000000000001\n"
     ]
    }
   ],
   "source": [
    "altura = float(input('Informe sua altura: '))\n",
    "peso_ideal = (72.7 * altura) - 58\n",
    "\n",
    "print('O peso ideal é: {}'.format(peso_ideal))\n",
    "\n"
   ]
  },
  {
   "cell_type": "markdown",
   "id": "13bb40d7",
   "metadata": {
    "id": "13bb40d7"
   },
   "source": [
    "#### 11. Tendo como dado de entrada a altura (h) de uma pessoa, construa um algoritmo que calcule seu peso ideal, utilizando as seguintes fórmulas:\n",
    "##### a. Para homens: $P = 72,7h - 58$\n",
    "##### b. Para mulheres: $P = 62,1h - 44,7$"
   ]
  },
  {
   "cell_type": "code",
   "execution_count": 5,
   "id": "bf82dc8c",
   "metadata": {
    "id": "bf82dc8c"
   },
   "outputs": [
    {
     "name": "stdout",
     "output_type": "stream",
     "text": [
      "Informe sua altura: 1.60\n",
      "Informe o seu sexo. Digite 1 para FEMININO e 2 para MASCULINO:1\n",
      "O peso ideal é: 54.66000000000001\n"
     ]
    }
   ],
   "source": [
    "altura_informada = float(input('Informe sua altura: '))\n",
    "sexo = int(input('Informe o seu sexo. Digite 1 para FEMININO e 2 para MASCULINO:'))\n",
    "peso_ideal_masculino = (72.7 * altura) - 58\n",
    "peso_ideal_feminino = (62.1 * altura_informada) - 44.7\n",
    "\n",
    "if sexo == 1:\n",
    "    print('O peso ideal é: {}'.format(peso_ideal_feminino))\n",
    "else:\n",
    "    print('O peso ideal é: {}'.format(peso_ideal_masculino))"
   ]
  },
  {
   "cell_type": "markdown",
   "id": "f208ef89",
   "metadata": {
    "id": "f208ef89"
   },
   "source": [
    "#### 12. Faça um Programa que pergunte quanto você ganha por hora e o número de horas trabalhadas no mês."
   ]
  },
  {
   "cell_type": "code",
   "execution_count": 28,
   "id": "2d5b23e0",
   "metadata": {
    "id": "2d5b23e0"
   },
   "outputs": [
    {
     "name": "stdout",
     "output_type": "stream",
     "text": [
      "Informe quanto você ganha por hora trabalhada: 23\n",
      "Informe quantas horas você trabalha por mês: 120\n"
     ]
    }
   ],
   "source": [
    "ganhos_por_hora = float(input('Informe quanto você ganha por hora trabalhada: '))\n",
    "horas_trabalhadas_por_mes = int(input('Informe quantas horas você trabalha por mês: '))"
   ]
  },
  {
   "cell_type": "markdown",
   "id": "607dee3c",
   "metadata": {
    "id": "607dee3c"
   },
   "source": [
    "#####  Calcule o salário bruto (horas * salario por hora)"
   ]
  },
  {
   "cell_type": "code",
   "execution_count": 29,
   "id": "7f80ccbb",
   "metadata": {
    "id": "7f80ccbb"
   },
   "outputs": [
    {
     "name": "stdout",
     "output_type": "stream",
     "text": [
      "Salário bruto: 2760.0\n"
     ]
    }
   ],
   "source": [
    "salario_bruto = horas_trabalhadas_por_mes * ganhos_por_hora\n",
    "print('Salário bruto: {}'.format(salario_bruto))"
   ]
  },
  {
   "cell_type": "markdown",
   "id": "2ed93cb0",
   "metadata": {
    "id": "2ed93cb0"
   },
   "source": [
    "##### Calcule o desconto do IR (11% do salário bruto)"
   ]
  },
  {
   "cell_type": "code",
   "execution_count": 30,
   "id": "3363e22f",
   "metadata": {
    "id": "3363e22f"
   },
   "outputs": [
    {
     "name": "stdout",
     "output_type": "stream",
     "text": [
      "Desconto do IR: 303.6\n"
     ]
    }
   ],
   "source": [
    "desconto_ir = 0.11 * salario_bruto\n",
    "print('Desconto do IR: {}'.format(desconto_ir))"
   ]
  },
  {
   "cell_type": "markdown",
   "id": "0994b2c0",
   "metadata": {
    "id": "0994b2c0"
   },
   "source": [
    "##### Calcule o desconto do INSS (8% do salário bruto)"
   ]
  },
  {
   "cell_type": "code",
   "execution_count": 31,
   "id": "748c6088",
   "metadata": {
    "id": "748c6088"
   },
   "outputs": [
    {
     "name": "stdout",
     "output_type": "stream",
     "text": [
      "Desconto do INSS: 220.8\n"
     ]
    }
   ],
   "source": [
    "desconto_inss = 0.08 * salario_bruto\n",
    "print('Desconto do INSS: {}'.format(desconto_inss))"
   ]
  },
  {
   "cell_type": "markdown",
   "id": "06e8dae4",
   "metadata": {
    "id": "06e8dae4"
   },
   "source": [
    "##### Calcule o desconto do sindicato (5% do salário bruto)"
   ]
  },
  {
   "cell_type": "code",
   "execution_count": 32,
   "id": "21b95b15",
   "metadata": {
    "id": "21b95b15",
    "scrolled": true
   },
   "outputs": [
    {
     "name": "stdout",
     "output_type": "stream",
     "text": [
      "Desconto do sindicato: 2760.0\n"
     ]
    }
   ],
   "source": [
    "desconto_sindicato = 0.05 * salario_bruto\n",
    "print('Desconto do sindicato: {}'.format(salario_bruto))"
   ]
  },
  {
   "cell_type": "markdown",
   "id": "bb14ce36",
   "metadata": {
    "id": "bb14ce36"
   },
   "source": [
    "##### Calcule o salário líquido (salário bruto - descontos)"
   ]
  },
  {
   "cell_type": "code",
   "execution_count": 33,
   "id": "56317086",
   "metadata": {
    "id": "56317086"
   },
   "outputs": [
    {
     "name": "stdout",
     "output_type": "stream",
     "text": [
      "O salário líquido é de: 2815.2\n"
     ]
    }
   ],
   "source": [
    "salario_liquido = salario_bruto - (desconto_ir - desconto_inss - desconto_sindicato)\n",
    "print('O salário líquido é de: {}'.format(salario_liquido))"
   ]
  },
  {
   "cell_type": "markdown",
   "id": "cfbfcc87",
   "metadata": {
    "id": "cfbfcc87"
   },
   "source": [
    "#### 13. Faça um programa para uma loja de tintas. O programa deverá pedir o tamanho em metros quadrados da área a ser pintada. Considere que a cobertura da tinta é de 1 litro para cada 3 metros quadrados e que a tinta é vendida em latas de 18 litros, que custam R\\$ 80,00. Informe ao usuário a quantidades de latas de tinta a serem compradas e o preço total. (para simplificação nesse momento, não se preocupe em arredondar a quantidade de latas a serem compradas - vamos trabalhar isso em breve)"
   ]
  },
  {
   "cell_type": "code",
   "execution_count": 8,
   "id": "fb6a083b",
   "metadata": {
    "id": "fb6a083b"
   },
   "outputs": [
    {
     "name": "stdout",
     "output_type": "stream",
     "text": [
      "Informe o tamanho da área a ser pintada em m²: 2\n",
      "Serão necessárias 0.037037037037037035 latas, custando R$ 2.962962962962963 no total\n"
     ]
    }
   ],
   "source": [
    "area = float(input('Informe o tamanho da área a ser pintada em m²: '))\n",
    "\n",
    "# 1 litro para cada 3 metros:\n",
    "litros_tinta = area / 3 \n",
    "# tinta é vendida em latas de 18 litros\n",
    "latas = litros_tinta / 18\n",
    "\n",
    "preco = latas * 80\n",
    "print(f'Serão necessárias {latas} latas, custando R$ {preco} no total')\n"
   ]
  },
  {
   "cell_type": "markdown",
   "id": "d6503c92",
   "metadata": {
    "id": "d6503c92"
   },
   "source": [
    "#### 14. Faça um programa que peça o tamanho de um arquivo para download (em MB) e a velocidade de um link de Internet (em Mbps), calcule e informe o tempo aproximado de download do arquivo usando este link (em minutos).\n",
    "\n",
    "Detalhe: MB significa megabyte, Mb (com b minúsculo) significa megabit. Um megabit é 1/8 de um megabyte. "
   ]
  },
  {
   "cell_type": "code",
   "execution_count": 9,
   "id": "0563aa62",
   "metadata": {
    "id": "0563aa62"
   },
   "outputs": [
    {
     "name": "stdout",
     "output_type": "stream",
     "text": [
      "Informe o tamanho do arquivo em MB: 2\n",
      "Informe a velocidade da conexão em Mbps: 4\n",
      "O tempo de download é de 0.06666666666666667 minutos\n"
     ]
    }
   ],
   "source": [
    "tamanho = float(input('Informe o tamanho do arquivo em MB: '))\n",
    "velocidade = float(input('Informe a velocidade da conexão em Mbps: '))\n",
    "\n",
    "# aqui transformo megabytes em megabits para que tamanho e velocidade estejam na mesma unidade\n",
    "tamanho_megabits = tamanho * 8\n",
    "\n",
    "tempo = tamanho_megabits / velocidade\n",
    "\n",
    "# transformando em minutos\n",
    "tempo_minutos = tempo / 60\n",
    "print(f'O tempo de download é de {tempo_minutos} minutos')"
   ]
  }
 ],
 "metadata": {
  "colab": {
   "provenance": []
  },
  "kernelspec": {
   "display_name": "Python 3 (ipykernel)",
   "language": "python",
   "name": "python3"
  },
  "language_info": {
   "codemirror_mode": {
    "name": "ipython",
    "version": 3
   },
   "file_extension": ".py",
   "mimetype": "text/x-python",
   "name": "python",
   "nbconvert_exporter": "python",
   "pygments_lexer": "ipython3",
   "version": "3.9.13"
  }
 },
 "nbformat": 4,
 "nbformat_minor": 5
}
